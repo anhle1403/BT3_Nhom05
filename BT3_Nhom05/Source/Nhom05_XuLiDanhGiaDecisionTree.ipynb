{
 "cells": [
  {
   "cell_type": "code",
   "execution_count": 17,
   "metadata": {},
   "outputs": [],
   "source": [
    "import numpy as np\n",
    "import matplotlib.pyplot as plt\n",
    "import seaborn as sns\n",
    "from sklearn.metrics import accuracy_score,confusion_matrix\n",
    "from sklearn.tree import DecisionTreeClassifier\n",
    "from sklearn.pipeline import Pipeline\n",
    "from sklearn.preprocessing import StandardScaler\n",
    "from sklearn.decomposition import PCA\n",
    "\n",
    "import pandas as pd\n"
   ]
  },
  {
   "cell_type": "code",
   "execution_count": 18,
   "metadata": {},
   "outputs": [],
   "source": [
    "df = pd.read_excel('../Data/Iris.xls')\n",
    "#Lấy và chia dữ liệu\n",
    "iris_X = df[:][['sepallength','sepalwidth','petallength','petalwidth']]\n",
    "iris_y = df[:]['species']"
   ]
  },
  {
   "cell_type": "code",
   "execution_count": 19,
   "metadata": {},
   "outputs": [
    {
     "name": "stdout",
     "output_type": "stream",
     "text": [
      "Training size: 100\n",
      "Test size    : 50\n"
     ]
    }
   ],
   "source": [
    "from sklearn.model_selection import train_test_split\n",
    "X_train, X_test, y_train, y_test = train_test_split(iris_X, iris_y, test_size=50)\n",
    "#Chia thành 2 tập Test và Train\n",
    "print(\"Training size: %d\" %len(y_train))\n",
    "print(\"Test size    : %d\" %len(y_test))"
   ]
  },
  {
   "cell_type": "code",
   "execution_count": 20,
   "metadata": {},
   "outputs": [
    {
     "name": "stdout",
     "output_type": "stream",
     "text": [
      "Trước khi sử lí dữ liệu\n",
      "Kết quả sau khi Test: 94.00 %\n"
     ]
    },
    {
     "data": {
      "image/png": "[encoded data removed]",
      "text/plain": [
       "<Figure size 864x432 with 2 Axes>"
      ]
     },
     "metadata": {
      "needs_background": "light"
     },
     "output_type": "display_data"
    }
   ],
   "source": [
    "\n",
    "clf = DecisionTreeClassifier()\n",
    "#Huấn luyện\n",
    "clf.fit(X_train,y_train)\n",
    "#Test\n",
    "y_pred = clf.predict(X_test)\n",
    "print(\"--------------------------Trước khi sử lí dữ liệu--------------------------\")\n",
    "print(\"Kết quả sau khi Test: %.2f %%\" %(100*accuracy_score(y_true = y_test, y_pred=y_pred)))\n",
    "#Confusion Matrix\n",
    "cm = confusion_matrix(y_test,y_pred)\n",
    "plt.figure(figsize=(12,6))\n",
    "plt.title(\"Confusion Matrix\")\n",
    "sns.heatmap(cm, annot=True,fmt='d', cmap='Oranges')\n",
    "plt.ylabel(\"Giá trị thực thế\")\n",
    "plt.xlabel(\"Giá trị dự đoán\")\n",
    "plt.show()\n",
    "\n",
    "\n",
    "#Eblow\n",
    "distortions = []\n",
    "K = range(1,10)\n",
    "for k in K:\n",
    "    tree = DecisionTreeClassifier(max_depth=k)\n",
    "    tree.fit(X_train, y_train)\n",
    "    pred_i = tree.predict(X_test)\n",
    "    distortions.append(np.mean(pred_i != y_test))\n",
    "\n",
    "plt.figure(figsize=(16,8))\n",
    "plt.plot(K, distortions, 'bx-')\n",
    "plt.xlabel('k')\n",
    "plt.ylabel('Distortion')\n",
    "plt.title('The Elbow Method showing the optimal k')\n",
    "plt.show()\n",
    "    "
   ]
  },
  {
   "cell_type": "code",
   "execution_count": 21,
   "metadata": {},
   "outputs": [
    {
     "name": "stdout",
     "output_type": "stream",
     "text": [
      "Sau khi sử lí dữ liệu\n",
      "Kết quả sau khi Test: 94.00 %\n"
     ]
    },
    {
     "data": {
      "image/png": "[encoded data removed]",
      "text/plain": [
       "<Figure size 864x432 with 2 Axes>"
      ]
     },
     "metadata": {
      "needs_background": "light"
     },
     "output_type": "display_data"
    }
   ],
   "source": [
    "pipeline_dt = Pipeline([('scl', StandardScaler()),\n",
    "                    ('pca', PCA(n_components=4)),\n",
    "                    ('dts', DecisionTreeClassifier())])\n",
    "pipeline_dt.fit(X_train,y_train)\n",
    "y_pred2 = pipeline_dt.predict(X_test)\n",
    "print(\"-----------------------------Sau khi sử lí dữ liệu--------------------------------\")\n",
    "print(\"Kết quả sau khi Test: %.2f %%\" %(100*accuracy_score(y_true = y_test, y_pred=y_pred2)))\n",
    "\n",
    "#Confusion Matrix\n",
    "cm = confusion_matrix(y_test,y_pred2)\n",
    "plt.figure(figsize=(12,6))\n",
    "plt.title(\"Confusion Matrix\")\n",
    "sns.heatmap(cm, annot=True,fmt='d', cmap='Oranges')\n",
    "plt.ylabel(\"Giá trị thực thế\")\n",
    "plt.xlabel(\"Giá trị dự đoán\")\n",
    "plt.show()\n",
    "\n",
    "#Eblow\n",
    "distortions = []\n",
    "K = range(1,10)\n",
    "for k in K:\n",
    "    pipeline_dt = Pipeline([('scl', StandardScaler()),\n",
    "                    ('pca', PCA(n_components=2)),\n",
    "                    ('dts', DecisionTreeClassifier())])\n",
    "    pipeline_dt.fit(X_train,y_train)\n",
    "    pred_i = clf.predict(X_test)\n",
    "    distortions.append(np.mean(pred_i != y_test))\n",
    "   \n",
    "plt.figure(figsize=(16,8))\n",
    "plt.plot(K, distortions, 'bx-')\n",
    "plt.xlabel('k')\n",
    "plt.ylabel('Distortion')\n",
    "plt.title('The Elbow Method showing the optimal k')\n",
    "plt.show()"
   ]
  }
 ],
 "metadata": {
  "interpreter": {
   "hash": "cb3007365a8f6a97f75c1bd7a74778a9497f53328be05e7e3107b9fd01a4c7c4"
  },
  "kernelspec": {
   "display_name": "Python 3.10.2 64-bit",
   "language": "python",
   "name": "python3"
  },
  "language_info": {
   "codemirror_mode": {
    "name": "ipython",
    "version": 3
   },
   "file_extension": ".py",
   "mimetype": "text/x-python",
   "name": "python",
   "nbconvert_exporter": "python",
   "pygments_lexer": "ipython3",
   "version": "3.10.2"
  },
  "orig_nbformat": 4
 },
 "nbformat": 4,
 "nbformat_minor": 2
}
